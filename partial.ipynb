{
  "nbformat": 4,
  "nbformat_minor": 0,
  "metadata": {
    "colab": {
      "provenance": []
    },
    "kernelspec": {
      "name": "python3",
      "display_name": "Python 3"
    },
    "language_info": {
      "name": "python"
    }
  },
  "cells": [
    {
      "cell_type": "code",
      "execution_count": null,
      "metadata": {
        "id": "YgkmLJSgxDUp"
      },
      "outputs": [],
      "source": [
        "!pip install hmmlearn\n",
        "!pip install pandas\n",
        "from hmmlearn import hmm\n",
        "import numpy as np\n",
        "import matplotlib.pyplot as plt\n",
        "import pandas as pd\n",
        "\n",
        "# Dimensiunea gridului\n",
        "dimensiune_grid = (10, 10)\n",
        "\n",
        "# Lista de culori predefinite\n",
        "culori = [\n",
        "    \"red\", \"blue\", \"green\", \"yellow\",\n",
        "    \"purple\", \"orange\", \"pink\", \"cyan\",\n",
        "    \"brown\", \"lime\"\n",
        "]\n",
        "\n",
        "# Citirea gridului\n",
        "df = pd.read_csv('/grid_culori.csv',header=None)\n",
        "grid_culori = df.to_numpy\n",
        "\n",
        "# Generarea secvenței de culori observate\n",
        "observatii = [\"red\", \"red\", \"lime\", \"yellow\", \"blue\"]\n",
        "\n",
        "# Mapare culori -> indecși\n",
        "culoare_to_idx = {culoare: idx for idx, culoare in enumerate(culori)}\n",
        "idx_to_culoare = {idx: culoare for culoare, idx in culoare_to_idx.items()}\n",
        "\n",
        "# Transformăm secvența de observații în indecși\n",
        "observatii_idx = [culoare_to_idx[c] for c in observatii]\n",
        "\n",
        "# Definim stările ascunse ca fiind toate pozițiile din grid (100 de stări)\n",
        "numar_stari = dimensiune_grid[0] * dimensiune_grid[1]\n",
        "stari_ascunse = [(i, j) for i in range(dimensiune_grid[0]) for j in range(dimensiune_grid[1])]\n",
        "stare_to_idx = {stare: idx for idx, stare in enumerate(stari_ascunse)}\n",
        "idx_to_stare = {idx: stare for stare, idx in stare_to_idx.items()}\n",
        "\n",
        "# Matrice de tranziție\n",
        "transitions = np.zeros((numar_stari, numar_stari))\n",
        "for i, j in stari_ascunse:\n",
        "    stare_curenta = stare_to_idx[(i, j)]\n",
        "    vecini = [\n",
        "        (i - 1, j), (i + 1, j), (i, j - 1), (i, j + 1)  # sus, jos, stânga, dreapta\n",
        "    ]\n",
        "    vecini_valizi = [stare_to_idx[(x, y)] for x, y in vecini if 0 <= x < 10 and 0 <= y < 10]\n",
        "    for vecin in vecini_valizi:\n",
        "        if vecin == stare_curenta:\n",
        "            transitions[stare_curenta, vecin] = 0.25\n",
        "        else:\n",
        "            transitions[stare_curenta, vecin] = 0.75 / (len(vecini_valizi) - 1)\n",
        "\n",
        "# Matrice de emisie\n",
        "emissions = np.zeros((numar_stari, len(culori)))\n",
        "for idx, (i, j) in enumerate(stari_ascunse):\n",
        "    culoare = grid_culori[i, j]\n",
        "    if culoare in culoare_to_idx:\n",
        "        emissions[idx, culoare_to_idx[culoare]] = 1.0\n",
        "emissions /= emissions.sum(axis=1, keepdims=True)\n",
        "\n",
        "start_probability = np.full(numar_stari, 1 / numar_stari)\n",
        "\n",
        "# Modelul HMM\n",
        "model = hmm.MultinomialHMM(n_components=numar_stari, n_iter=100)\n",
        "model.startprob_ = start_probability\n",
        "model.transmat_ = transitions\n",
        "model.emissionprob_ = emissions\n",
        "\n",
        "# Rulăm algoritmul Viterbi pentru secvența de observații\n",
        "observatii_idx = np.array(observatii_idx).reshape(-1, 1)\n",
        "logprob, secventa_stari = model.decode(observatii_idx, algorithm=\"viterbi\")\n",
        "\n",
        "\n",
        "# Convertim secvența de stări în poziții din grid\n",
        "drum = [idx_to_stare[idx] for idx in secventa_stari]\n",
        "\n",
        "# Vizualizăm drumul pe grid\n",
        "fig, ax = plt.subplots(figsize=(8, 8))\n",
        "for i in range(dimensiune_grid[0]):\n",
        "    for j in range(dimensiune_grid[1]):\n",
        "        culoare = grid_culori[i, j]\n",
        "        ax.add_patch(plt.Rectangle((j, dimensiune_grid[0] - i - 1), 1, 1, color=culoare))\n",
        "        ax.text(j + 0.5, dimensiune_grid[0] - i - 0.5, culoare,\n",
        "                color=\"white\", ha=\"center\", va=\"center\", fontsize=8, fontweight=\"bold\")\n",
        "\n",
        "# Evidențiem drumul rezultat\n",
        "for idx, (i, j) in enumerate(drum):\n",
        "    ax.add_patch(plt.Circle((j + 0.5, dimensiune_grid[0] - i - 0.5), 0.3, color=\"black\", alpha=0.7))\n",
        "    ax.text(j + 0.5, dimensiune_grid[0] - i - 0.5, str(idx + 1),\n",
        "            color=\"white\", ha=\"center\", va=\"center\", fontsize=10, fontweight=\"bold\")\n",
        "\n",
        "# Setări axă\n",
        "ax.set_xlim(0, dimensiune_grid[1])\n",
        "ax.set_ylim(0, dimensiune_grid[0])\n",
        "ax.set_xticks(range(dimensiune_grid[1]))\n",
        "ax.set_yticks(range(dimensiune_grid[0]))\n",
        "ax.set_xticklabels([])\n",
        "ax.set_yticklabels([])\n",
        "ax.grid(visible=True, color=\"black\", linewidth=0.5)\n",
        "ax.set_aspect(\"equal\")\n",
        "plt.title(\"Drumul rezultat al stărilor ascunse\", fontsize=14)\n",
        "plt.show()"
      ]
    },
    {
      "cell_type": "code",
      "source": [
        "import numpy as np\n",
        "import scipy.stats as stats\n",
        "import matplotlib.pyplot as plt\n",
        "import numpy as np\n",
        "import pymc as pm\n",
        "import arviz as az\n",
        "import matplotlib.pyplot as plt\n",
        "\n",
        "nr_aruncari=10\n",
        "observatii=['s','b','b','b','s','b','s','b','b','b']\n",
        "\n",
        "alpha_prior = 1\n",
        "beta_prior = 1\n",
        "\n",
        "with pm.Model() as model:\n",
        "\n",
        "\n",
        "    beta_prior = pm.Uniform(\"beta\", lower=1, upper=1)\n",
        "\n",
        "    likelihood = pm.Normal(\"likelihood\", mu=np.mean(observatii), sigma=1/beta_prior, observed=observatii)\n",
        "\n",
        "    trace = pm.sample(2000, tune=1000, return_inferencedata=True, random_seed=42)\n",
        "\n",
        "az.plot_posterior(trace, var_names=[\"mu\"], hdi_prob=0.95)\n",
        "plt.title(\"Distributia a posteriori pentru mu\")\n",
        "plt.show()\n",
        "\n",
        "# Rezultate statistice\n",
        "print(az.summary(trace, var_names=[\"mu\", \"sigma\"]))"
      ],
      "metadata": {
        "colab": {
          "base_uri": "https://localhost:8080/",
          "height": 474
        },
        "id": "uS1VCeNtA10m",
        "outputId": "b1656515-bc11-46ca-f0dc-02d0056d64cd"
      },
      "execution_count": 3,
      "outputs": [
        {
          "output_type": "error",
          "ename": "SamplingError",
          "evalue": "Initial evaluation of model at starting point failed!\nStarting values:\n{'beta_interval__': array(nan)}\n\nLogp initial evaluation results:\n{'beta': nan}\nYou can call `model.debug()` for more details.",
          "traceback": [
            "\u001b[0;31m---------------------------------------------------------------------------\u001b[0m",
            "\u001b[0;31mSamplingError\u001b[0m                             Traceback (most recent call last)",
            "\u001b[0;32m<ipython-input-3-ee55c96c96e8>\u001b[0m in \u001b[0;36m<cell line: 15>\u001b[0;34m()\u001b[0m\n\u001b[1;32m     20\u001b[0m     \u001b[0;31m#likelihood = pm.Normal(\"likelihood\", mu=np.mean(observatii), sigma=1/beta_prior, observed=observatii)\u001b[0m\u001b[0;34m\u001b[0m\u001b[0;34m\u001b[0m\u001b[0m\n\u001b[1;32m     21\u001b[0m \u001b[0;34m\u001b[0m\u001b[0m\n\u001b[0;32m---> 22\u001b[0;31m     \u001b[0mtrace\u001b[0m \u001b[0;34m=\u001b[0m \u001b[0mpm\u001b[0m\u001b[0;34m.\u001b[0m\u001b[0msample\u001b[0m\u001b[0;34m(\u001b[0m\u001b[0;36m2000\u001b[0m\u001b[0;34m,\u001b[0m \u001b[0mtune\u001b[0m\u001b[0;34m=\u001b[0m\u001b[0;36m1000\u001b[0m\u001b[0;34m,\u001b[0m \u001b[0mreturn_inferencedata\u001b[0m\u001b[0;34m=\u001b[0m\u001b[0;32mTrue\u001b[0m\u001b[0;34m,\u001b[0m \u001b[0mrandom_seed\u001b[0m\u001b[0;34m=\u001b[0m\u001b[0;36m42\u001b[0m\u001b[0;34m)\u001b[0m\u001b[0;34m\u001b[0m\u001b[0;34m\u001b[0m\u001b[0m\n\u001b[0m\u001b[1;32m     23\u001b[0m \u001b[0;34m\u001b[0m\u001b[0m\n\u001b[1;32m     24\u001b[0m \u001b[0maz\u001b[0m\u001b[0;34m.\u001b[0m\u001b[0mplot_posterior\u001b[0m\u001b[0;34m(\u001b[0m\u001b[0mtrace\u001b[0m\u001b[0;34m,\u001b[0m \u001b[0mvar_names\u001b[0m\u001b[0;34m=\u001b[0m\u001b[0;34m[\u001b[0m\u001b[0;34m\"mu\"\u001b[0m\u001b[0;34m]\u001b[0m\u001b[0;34m,\u001b[0m \u001b[0mhdi_prob\u001b[0m\u001b[0;34m=\u001b[0m\u001b[0;36m0.95\u001b[0m\u001b[0;34m)\u001b[0m\u001b[0;34m\u001b[0m\u001b[0;34m\u001b[0m\u001b[0m\n",
            "\u001b[0;32m/usr/local/lib/python3.10/dist-packages/pymc/sampling/mcmc.py\u001b[0m in \u001b[0;36msample\u001b[0;34m(draws, tune, chains, cores, random_seed, progressbar, progressbar_theme, step, var_names, nuts_sampler, initvals, init, jitter_max_retries, n_init, trace, discard_tuned_samples, compute_convergence_checks, keep_warning_stat, return_inferencedata, idata_kwargs, nuts_sampler_kwargs, callback, mp_ctx, blas_cores, model, **kwargs)\u001b[0m\n\u001b[1;32m    790\u001b[0m     \u001b[0mip\u001b[0m\u001b[0;34m:\u001b[0m \u001b[0mdict\u001b[0m\u001b[0;34m[\u001b[0m\u001b[0mstr\u001b[0m\u001b[0;34m,\u001b[0m \u001b[0mnp\u001b[0m\u001b[0;34m.\u001b[0m\u001b[0mndarray\u001b[0m\u001b[0;34m]\u001b[0m\u001b[0;34m\u001b[0m\u001b[0;34m\u001b[0m\u001b[0m\n\u001b[1;32m    791\u001b[0m     \u001b[0;32mfor\u001b[0m \u001b[0mip\u001b[0m \u001b[0;32min\u001b[0m \u001b[0minitial_points\u001b[0m\u001b[0;34m:\u001b[0m\u001b[0;34m\u001b[0m\u001b[0;34m\u001b[0m\u001b[0m\n\u001b[0;32m--> 792\u001b[0;31m         \u001b[0mmodel\u001b[0m\u001b[0;34m.\u001b[0m\u001b[0mcheck_start_vals\u001b[0m\u001b[0;34m(\u001b[0m\u001b[0mip\u001b[0m\u001b[0;34m)\u001b[0m\u001b[0;34m\u001b[0m\u001b[0;34m\u001b[0m\u001b[0m\n\u001b[0m\u001b[1;32m    793\u001b[0m         \u001b[0m_check_start_shape\u001b[0m\u001b[0;34m(\u001b[0m\u001b[0mmodel\u001b[0m\u001b[0;34m,\u001b[0m \u001b[0mip\u001b[0m\u001b[0;34m)\u001b[0m\u001b[0;34m\u001b[0m\u001b[0;34m\u001b[0m\u001b[0m\n\u001b[1;32m    794\u001b[0m \u001b[0;34m\u001b[0m\u001b[0m\n",
            "\u001b[0;32m/usr/local/lib/python3.10/dist-packages/pymc/model/core.py\u001b[0m in \u001b[0;36mcheck_start_vals\u001b[0;34m(self, start, **kwargs)\u001b[0m\n\u001b[1;32m   1743\u001b[0m \u001b[0;34m\u001b[0m\u001b[0m\n\u001b[1;32m   1744\u001b[0m             \u001b[0;32mif\u001b[0m \u001b[0;32mnot\u001b[0m \u001b[0mall\u001b[0m\u001b[0;34m(\u001b[0m\u001b[0mnp\u001b[0m\u001b[0;34m.\u001b[0m\u001b[0misfinite\u001b[0m\u001b[0;34m(\u001b[0m\u001b[0mv\u001b[0m\u001b[0;34m)\u001b[0m \u001b[0;32mfor\u001b[0m \u001b[0mv\u001b[0m \u001b[0;32min\u001b[0m \u001b[0minitial_eval\u001b[0m\u001b[0;34m.\u001b[0m\u001b[0mvalues\u001b[0m\u001b[0;34m(\u001b[0m\u001b[0;34m)\u001b[0m\u001b[0;34m)\u001b[0m\u001b[0;34m:\u001b[0m\u001b[0;34m\u001b[0m\u001b[0;34m\u001b[0m\u001b[0m\n\u001b[0;32m-> 1745\u001b[0;31m                 raise SamplingError(\n\u001b[0m\u001b[1;32m   1746\u001b[0m                     \u001b[0;34m\"Initial evaluation of model at starting point failed!\\n\"\u001b[0m\u001b[0;34m\u001b[0m\u001b[0;34m\u001b[0m\u001b[0m\n\u001b[1;32m   1747\u001b[0m                     \u001b[0;34mf\"Starting values:\\n{elem}\\n\\n\"\u001b[0m\u001b[0;34m\u001b[0m\u001b[0;34m\u001b[0m\u001b[0m\n",
            "\u001b[0;31mSamplingError\u001b[0m: Initial evaluation of model at starting point failed!\nStarting values:\n{'beta_interval__': array(nan)}\n\nLogp initial evaluation results:\n{'beta': nan}\nYou can call `model.debug()` for more details."
          ]
        }
      ]
    },
    {
      "cell_type": "code",
      "source": [
        "import numpy as np\n",
        "import scipy.stats as stats\n",
        "import matplotlib.pyplot as plt\n",
        "\n",
        "nr_aruncari=10\n",
        "observatii=['s','s','b','s','b','b','s','b','b','s']\n",
        "\n",
        "alpha_prior = 1\n",
        "beta_prior = 1\n",
        "\n",
        "prior_pdf = stats.gamma.pdf(observatii, a=alpha_prior, scale=1/beta_prior)\n",
        "\n",
        "# Normalizam distributia a posteriori\n",
        "posterior_pdf = unnormalized_posterior / np.trapz(unnormalized_posterior, observatii)\n",
        "\n",
        "# Vizualizarea distributiei a posteriori\n",
        "plt.figure(figsize=(10, 6))\n",
        "plt.plot(observatii, posterior_pdf, label='Distribuția a posteriori a lui λ')\n",
        "plt.ylabel('Densitatea de probabilitate')\n",
        "plt.legend()\n",
        "plt.grid(True)\n",
        "plt.show()"
      ],
      "metadata": {
        "colab": {
          "base_uri": "https://localhost:8080/",
          "height": 342
        },
        "id": "DzNxvikuBN8w",
        "outputId": "996b2959-8405-4222-859e-7f47c6b72c75"
      },
      "execution_count": 4,
      "outputs": [
        {
          "output_type": "error",
          "ename": "UFuncTypeError",
          "evalue": "ufunc 'subtract' did not contain a loop with signature matching types (dtype('<U1'), dtype('int64')) -> None",
          "traceback": [
            "\u001b[0;31m---------------------------------------------------------------------------\u001b[0m",
            "\u001b[0;31mUFuncTypeError\u001b[0m                            Traceback (most recent call last)",
            "\u001b[0;32m<ipython-input-4-e3b2d411160d>\u001b[0m in \u001b[0;36m<cell line: 11>\u001b[0;34m()\u001b[0m\n\u001b[1;32m      9\u001b[0m \u001b[0mbeta_prior\u001b[0m \u001b[0;34m=\u001b[0m \u001b[0;36m1\u001b[0m\u001b[0;34m\u001b[0m\u001b[0;34m\u001b[0m\u001b[0m\n\u001b[1;32m     10\u001b[0m \u001b[0;34m\u001b[0m\u001b[0m\n\u001b[0;32m---> 11\u001b[0;31m \u001b[0mprior_pdf\u001b[0m \u001b[0;34m=\u001b[0m \u001b[0mstats\u001b[0m\u001b[0;34m.\u001b[0m\u001b[0mgamma\u001b[0m\u001b[0;34m.\u001b[0m\u001b[0mpdf\u001b[0m\u001b[0;34m(\u001b[0m\u001b[0mobservatii\u001b[0m\u001b[0;34m,\u001b[0m \u001b[0ma\u001b[0m\u001b[0;34m=\u001b[0m\u001b[0malpha_prior\u001b[0m\u001b[0;34m,\u001b[0m \u001b[0mscale\u001b[0m\u001b[0;34m=\u001b[0m\u001b[0;36m1\u001b[0m\u001b[0;34m/\u001b[0m\u001b[0mbeta_prior\u001b[0m\u001b[0;34m)\u001b[0m\u001b[0;34m\u001b[0m\u001b[0;34m\u001b[0m\u001b[0m\n\u001b[0m\u001b[1;32m     12\u001b[0m \u001b[0;34m\u001b[0m\u001b[0m\n\u001b[1;32m     13\u001b[0m \u001b[0;31m# Normalizam distributia a posteriori\u001b[0m\u001b[0;34m\u001b[0m\u001b[0;34m\u001b[0m\u001b[0m\n",
            "\u001b[0;32m/usr/local/lib/python3.10/dist-packages/scipy/stats/_distn_infrastructure.py\u001b[0m in \u001b[0;36mpdf\u001b[0;34m(self, x, *args, **kwds)\u001b[0m\n\u001b[1;32m   1986\u001b[0m         \u001b[0margs\u001b[0m \u001b[0;34m=\u001b[0m \u001b[0mtuple\u001b[0m\u001b[0;34m(\u001b[0m\u001b[0mmap\u001b[0m\u001b[0;34m(\u001b[0m\u001b[0masarray\u001b[0m\u001b[0;34m,\u001b[0m \u001b[0margs\u001b[0m\u001b[0;34m)\u001b[0m\u001b[0;34m)\u001b[0m\u001b[0;34m\u001b[0m\u001b[0;34m\u001b[0m\u001b[0m\n\u001b[1;32m   1987\u001b[0m         \u001b[0mdtyp\u001b[0m \u001b[0;34m=\u001b[0m \u001b[0mnp\u001b[0m\u001b[0;34m.\u001b[0m\u001b[0mpromote_types\u001b[0m\u001b[0;34m(\u001b[0m\u001b[0mx\u001b[0m\u001b[0;34m.\u001b[0m\u001b[0mdtype\u001b[0m\u001b[0;34m,\u001b[0m \u001b[0mnp\u001b[0m\u001b[0;34m.\u001b[0m\u001b[0mfloat64\u001b[0m\u001b[0;34m)\u001b[0m\u001b[0;34m\u001b[0m\u001b[0;34m\u001b[0m\u001b[0m\n\u001b[0;32m-> 1988\u001b[0;31m         \u001b[0mx\u001b[0m \u001b[0;34m=\u001b[0m \u001b[0mnp\u001b[0m\u001b[0;34m.\u001b[0m\u001b[0masarray\u001b[0m\u001b[0;34m(\u001b[0m\u001b[0;34m(\u001b[0m\u001b[0mx\u001b[0m \u001b[0;34m-\u001b[0m \u001b[0mloc\u001b[0m\u001b[0;34m)\u001b[0m\u001b[0;34m/\u001b[0m\u001b[0mscale\u001b[0m\u001b[0;34m,\u001b[0m \u001b[0mdtype\u001b[0m\u001b[0;34m=\u001b[0m\u001b[0mdtyp\u001b[0m\u001b[0;34m)\u001b[0m\u001b[0;34m\u001b[0m\u001b[0;34m\u001b[0m\u001b[0m\n\u001b[0m\u001b[1;32m   1989\u001b[0m         \u001b[0mcond0\u001b[0m \u001b[0;34m=\u001b[0m \u001b[0mself\u001b[0m\u001b[0;34m.\u001b[0m\u001b[0m_argcheck\u001b[0m\u001b[0;34m(\u001b[0m\u001b[0;34m*\u001b[0m\u001b[0margs\u001b[0m\u001b[0;34m)\u001b[0m \u001b[0;34m&\u001b[0m \u001b[0;34m(\u001b[0m\u001b[0mscale\u001b[0m \u001b[0;34m>\u001b[0m \u001b[0;36m0\u001b[0m\u001b[0;34m)\u001b[0m\u001b[0;34m\u001b[0m\u001b[0;34m\u001b[0m\u001b[0m\n\u001b[1;32m   1990\u001b[0m         \u001b[0mcond1\u001b[0m \u001b[0;34m=\u001b[0m \u001b[0mself\u001b[0m\u001b[0;34m.\u001b[0m\u001b[0m_support_mask\u001b[0m\u001b[0;34m(\u001b[0m\u001b[0mx\u001b[0m\u001b[0;34m,\u001b[0m \u001b[0;34m*\u001b[0m\u001b[0margs\u001b[0m\u001b[0;34m)\u001b[0m \u001b[0;34m&\u001b[0m \u001b[0;34m(\u001b[0m\u001b[0mscale\u001b[0m \u001b[0;34m>\u001b[0m \u001b[0;36m0\u001b[0m\u001b[0;34m)\u001b[0m\u001b[0;34m\u001b[0m\u001b[0;34m\u001b[0m\u001b[0m\n",
            "\u001b[0;31mUFuncTypeError\u001b[0m: ufunc 'subtract' did not contain a loop with signature matching types (dtype('<U1'), dtype('int64')) -> None"
          ]
        }
      ]
    }
  ]
}