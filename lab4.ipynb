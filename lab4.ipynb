{
  "nbformat": 4,
  "nbformat_minor": 0,
  "metadata": {
    "colab": {
      "provenance": []
    },
    "kernelspec": {
      "name": "python3",
      "display_name": "Python 3"
    },
    "language_info": {
      "name": "python"
    }
  },
  "cells": [
    {
      "cell_type": "code",
      "source": [
        "pip install pgmpy"
      ],
      "metadata": {
        "colab": {
          "base_uri": "https://localhost:8080/"
        },
        "id": "DkDZmDIH4FUg",
        "outputId": "18783437-5561-4e85-a996-1f0bdf425bd8",
        "collapsed": true
      },
      "execution_count": null,
      "outputs": [
        {
          "output_type": "stream",
          "name": "stdout",
          "text": [
            "Collecting pgmpy\n",
            "  Downloading pgmpy-0.1.26-py3-none-any.whl.metadata (9.1 kB)\n",
            "Requirement already satisfied: networkx in /usr/local/lib/python3.10/dist-packages (from pgmpy) (3.4.1)\n",
            "Requirement already satisfied: numpy in /usr/local/lib/python3.10/dist-packages (from pgmpy) (1.26.4)\n",
            "Requirement already satisfied: scipy in /usr/local/lib/python3.10/dist-packages (from pgmpy) (1.13.1)\n",
            "Requirement already satisfied: scikit-learn in /usr/local/lib/python3.10/dist-packages (from pgmpy) (1.5.2)\n",
            "Requirement already satisfied: pandas in /usr/local/lib/python3.10/dist-packages (from pgmpy) (2.2.2)\n",
            "Requirement already satisfied: pyparsing in /usr/local/lib/python3.10/dist-packages (from pgmpy) (3.2.0)\n",
            "Requirement already satisfied: torch in /usr/local/lib/python3.10/dist-packages (from pgmpy) (2.4.1+cu121)\n",
            "Requirement already satisfied: statsmodels in /usr/local/lib/python3.10/dist-packages (from pgmpy) (0.14.4)\n",
            "Requirement already satisfied: tqdm in /usr/local/lib/python3.10/dist-packages (from pgmpy) (4.66.5)\n",
            "Requirement already satisfied: joblib in /usr/local/lib/python3.10/dist-packages (from pgmpy) (1.4.2)\n",
            "Requirement already satisfied: opt-einsum in /usr/local/lib/python3.10/dist-packages (from pgmpy) (3.4.0)\n",
            "Requirement already satisfied: xgboost in /usr/local/lib/python3.10/dist-packages (from pgmpy) (2.1.1)\n",
            "Requirement already satisfied: google-generativeai in /usr/local/lib/python3.10/dist-packages (from pgmpy) (0.7.2)\n",
            "Requirement already satisfied: google-ai-generativelanguage==0.6.6 in /usr/local/lib/python3.10/dist-packages (from google-generativeai->pgmpy) (0.6.6)\n",
            "Requirement already satisfied: google-api-core in /usr/local/lib/python3.10/dist-packages (from google-generativeai->pgmpy) (2.19.2)\n",
            "Requirement already satisfied: google-api-python-client in /usr/local/lib/python3.10/dist-packages (from google-generativeai->pgmpy) (2.137.0)\n",
            "Requirement already satisfied: google-auth>=2.15.0 in /usr/local/lib/python3.10/dist-packages (from google-generativeai->pgmpy) (2.27.0)\n",
            "Requirement already satisfied: protobuf in /usr/local/lib/python3.10/dist-packages (from google-generativeai->pgmpy) (3.20.3)\n",
            "Requirement already satisfied: pydantic in /usr/local/lib/python3.10/dist-packages (from google-generativeai->pgmpy) (2.9.2)\n",
            "Requirement already satisfied: typing-extensions in /usr/local/lib/python3.10/dist-packages (from google-generativeai->pgmpy) (4.12.2)\n",
            "Requirement already satisfied: proto-plus<2.0.0dev,>=1.22.3 in /usr/local/lib/python3.10/dist-packages (from google-ai-generativelanguage==0.6.6->google-generativeai->pgmpy) (1.24.0)\n",
            "Requirement already satisfied: python-dateutil>=2.8.2 in /usr/local/lib/python3.10/dist-packages (from pandas->pgmpy) (2.8.2)\n",
            "Requirement already satisfied: pytz>=2020.1 in /usr/local/lib/python3.10/dist-packages (from pandas->pgmpy) (2024.2)\n",
            "Requirement already satisfied: tzdata>=2022.7 in /usr/local/lib/python3.10/dist-packages (from pandas->pgmpy) (2024.2)\n",
            "Requirement already satisfied: threadpoolctl>=3.1.0 in /usr/local/lib/python3.10/dist-packages (from scikit-learn->pgmpy) (3.5.0)\n",
            "Requirement already satisfied: patsy>=0.5.6 in /usr/local/lib/python3.10/dist-packages (from statsmodels->pgmpy) (0.5.6)\n",
            "Requirement already satisfied: packaging>=21.3 in /usr/local/lib/python3.10/dist-packages (from statsmodels->pgmpy) (24.1)\n",
            "Requirement already satisfied: filelock in /usr/local/lib/python3.10/dist-packages (from torch->pgmpy) (3.16.1)\n",
            "Requirement already satisfied: sympy in /usr/local/lib/python3.10/dist-packages (from torch->pgmpy) (1.13.3)\n",
            "Requirement already satisfied: jinja2 in /usr/local/lib/python3.10/dist-packages (from torch->pgmpy) (3.1.4)\n",
            "Requirement already satisfied: fsspec in /usr/local/lib/python3.10/dist-packages (from torch->pgmpy) (2024.6.1)\n",
            "Requirement already satisfied: nvidia-nccl-cu12 in /usr/local/lib/python3.10/dist-packages (from xgboost->pgmpy) (2.23.4)\n",
            "Requirement already satisfied: googleapis-common-protos<2.0.dev0,>=1.56.2 in /usr/local/lib/python3.10/dist-packages (from google-api-core->google-generativeai->pgmpy) (1.65.0)\n",
            "Requirement already satisfied: requests<3.0.0.dev0,>=2.18.0 in /usr/local/lib/python3.10/dist-packages (from google-api-core->google-generativeai->pgmpy) (2.32.3)\n",
            "Requirement already satisfied: cachetools<6.0,>=2.0.0 in /usr/local/lib/python3.10/dist-packages (from google-auth>=2.15.0->google-generativeai->pgmpy) (5.5.0)\n",
            "Requirement already satisfied: pyasn1-modules>=0.2.1 in /usr/local/lib/python3.10/dist-packages (from google-auth>=2.15.0->google-generativeai->pgmpy) (0.4.1)\n",
            "Requirement already satisfied: rsa<5,>=3.1.4 in /usr/local/lib/python3.10/dist-packages (from google-auth>=2.15.0->google-generativeai->pgmpy) (4.9)\n",
            "Requirement already satisfied: six in /usr/local/lib/python3.10/dist-packages (from patsy>=0.5.6->statsmodels->pgmpy) (1.16.0)\n",
            "Requirement already satisfied: httplib2<1.dev0,>=0.19.0 in /usr/local/lib/python3.10/dist-packages (from google-api-python-client->google-generativeai->pgmpy) (0.22.0)\n",
            "Requirement already satisfied: google-auth-httplib2<1.0.0,>=0.2.0 in /usr/local/lib/python3.10/dist-packages (from google-api-python-client->google-generativeai->pgmpy) (0.2.0)\n",
            "Requirement already satisfied: uritemplate<5,>=3.0.1 in /usr/local/lib/python3.10/dist-packages (from google-api-python-client->google-generativeai->pgmpy) (4.1.1)\n",
            "Requirement already satisfied: MarkupSafe>=2.0 in /usr/local/lib/python3.10/dist-packages (from jinja2->torch->pgmpy) (3.0.1)\n",
            "Requirement already satisfied: annotated-types>=0.6.0 in /usr/local/lib/python3.10/dist-packages (from pydantic->google-generativeai->pgmpy) (0.7.0)\n",
            "Requirement already satisfied: pydantic-core==2.23.4 in /usr/local/lib/python3.10/dist-packages (from pydantic->google-generativeai->pgmpy) (2.23.4)\n",
            "Requirement already satisfied: mpmath<1.4,>=1.1.0 in /usr/local/lib/python3.10/dist-packages (from sympy->torch->pgmpy) (1.3.0)\n",
            "Requirement already satisfied: grpcio<2.0dev,>=1.33.2 in /usr/local/lib/python3.10/dist-packages (from google-api-core[grpc]!=2.0.*,!=2.1.*,!=2.10.*,!=2.2.*,!=2.3.*,!=2.4.*,!=2.5.*,!=2.6.*,!=2.7.*,!=2.8.*,!=2.9.*,<3.0.0dev,>=1.34.1->google-ai-generativelanguage==0.6.6->google-generativeai->pgmpy) (1.64.1)\n",
            "Requirement already satisfied: grpcio-status<2.0.dev0,>=1.33.2 in /usr/local/lib/python3.10/dist-packages (from google-api-core[grpc]!=2.0.*,!=2.1.*,!=2.10.*,!=2.2.*,!=2.3.*,!=2.4.*,!=2.5.*,!=2.6.*,!=2.7.*,!=2.8.*,!=2.9.*,<3.0.0dev,>=1.34.1->google-ai-generativelanguage==0.6.6->google-generativeai->pgmpy) (1.48.2)\n",
            "Requirement already satisfied: pyasn1<0.7.0,>=0.4.6 in /usr/local/lib/python3.10/dist-packages (from pyasn1-modules>=0.2.1->google-auth>=2.15.0->google-generativeai->pgmpy) (0.6.1)\n",
            "Requirement already satisfied: charset-normalizer<4,>=2 in /usr/local/lib/python3.10/dist-packages (from requests<3.0.0.dev0,>=2.18.0->google-api-core->google-generativeai->pgmpy) (3.4.0)\n",
            "Requirement already satisfied: idna<4,>=2.5 in /usr/local/lib/python3.10/dist-packages (from requests<3.0.0.dev0,>=2.18.0->google-api-core->google-generativeai->pgmpy) (3.10)\n",
            "Requirement already satisfied: urllib3<3,>=1.21.1 in /usr/local/lib/python3.10/dist-packages (from requests<3.0.0.dev0,>=2.18.0->google-api-core->google-generativeai->pgmpy) (2.2.3)\n",
            "Requirement already satisfied: certifi>=2017.4.17 in /usr/local/lib/python3.10/dist-packages (from requests<3.0.0.dev0,>=2.18.0->google-api-core->google-generativeai->pgmpy) (2024.8.30)\n",
            "Downloading pgmpy-0.1.26-py3-none-any.whl (2.0 MB)\n",
            "\u001b[2K   \u001b[90m━━━━━━━━━━━━━━━━━━━━━━━━━━━━━━━━━━━━━━━━\u001b[0m \u001b[32m2.0/2.0 MB\u001b[0m \u001b[31m20.5 MB/s\u001b[0m eta \u001b[36m0:00:00\u001b[0m\n",
            "\u001b[?25hInstalling collected packages: pgmpy\n",
            "Successfully installed pgmpy-0.1.26\n"
          ]
        }
      ]
    },
    {
      "cell_type": "code",
      "execution_count": null,
      "metadata": {
        "colab": {
          "base_uri": "https://localhost:8080/",
          "height": 677
        },
        "id": "wWXHdkrn1BQD",
        "outputId": "c247c3be-b2b7-4019-a18c-a40f92df324b"
      },
      "outputs": [
        {
          "output_type": "stream",
          "name": "stdout",
          "text": [
            "[['A3', 'A4'], ['A3', 'A1'], ['A2', 'A4', 'A5'], ['A2', 'A1']]\n"
          ]
        },
        {
          "output_type": "display_data",
          "data": {
            "text/plain": [
              "<Figure size 400x600 with 1 Axes>"
            ],
            "image/png": "[encoded data removed]"
          },
          "metadata": {}
        }
      ],
      "source": [
        "from pgmpy.models import MarkovNetwork\n",
        "import networkx as nx\n",
        "import matplotlib.pyplot as plt\n",
        "\n",
        "model=MarkovNetwork()\n",
        "\n",
        "model.add_edges_from([('A1', 'A2'), ('A1', 'A3'), ('A2', 'A4'), ('A2', 'A5'), ('A3', 'A4'), ('A4', 'A5')])\n",
        "\n",
        "graph = nx.DiGraph()\n",
        "graph.add_edges_from(model.edges())\n",
        "plt.figure(figsize=(4, 6))\n",
        "pos = nx.spring_layout(graph)\n",
        "nx.draw(graph, pos, with_labels=True, arrows=True, node_size=2000, node_color='lightblue', font_size=15, font_weight='bold', arrowsize=20)\n",
        "\n",
        "cliques=list(nx.find_cliques(model))\n",
        "print(cliques)\n",
        "plt.title('Markov Network')\n",
        "plt.show()\n",
        "\n",
        "\n"
      ]
    },
    {
      "cell_type": "markdown",
      "source": [
        "cea mai probabila stare pentru un parametru\n",
        "ex: in jurul unui nod am rosu-> acel pixel cel mai probabil va fi rosu\n"
      ],
      "metadata": {
        "id": "okM9C3I12X22"
      }
    },
    {
      "cell_type": "markdown",
      "source": [
        "b) prob comuna a celor 5 variabile -> + starile de prob maxima pentru ele"
      ],
      "metadata": {
        "id": "ptgujZT-6O9U"
      }
    },
    {
      "cell_type": "code",
      "source": [
        "import numpy as np\n",
        "import itertools\n",
        "\n",
        "def phi_C(X_C):\n",
        "    return np.prod(X_C)\n",
        "\n",
        "variables = ['A1', 'A2', 'A3', 'A4', 'A5']\n",
        "domain = [0, 1]\n",
        "\n",
        "all_combinations = list(itertools.product(domain, repeat=len(variables)))\n",
        "\n",
        "def joint_probability(combination):\n",
        "    prob = 1\n",
        "    for clique in cliques:\n",
        "        clique_vars = [combination[variables.index(var)] for var in clique]\n",
        "        prob *= phi_C(clique_vars)\n",
        "    return prob\n",
        "\n",
        "probabilities = np.array([joint_probability(comb) for comb in all_combinations])\n",
        "\n",
        "k = np.sum(probabilities)\n",
        "\n",
        "normalized_probabilities = probabilities / k\n",
        "\n",
        "for comb,prob in zip(all_combinations,normalized_probabilities):\n",
        "    print(f\"Probabilitatea pentru configuratia {comb}: {prob:.5f}\")"
      ],
      "metadata": {
        "colab": {
          "base_uri": "https://localhost:8080/"
        },
        "id": "0Zb-aoNv6fjn",
        "outputId": "41925ab2-eb10-4343-9242-9abf65cefb63"
      },
      "execution_count": null,
      "outputs": [
        {
          "output_type": "stream",
          "name": "stdout",
          "text": [
            "Probabilitatea pentru configuratia (0, 0, 0, 0, 0): 0.00000\n",
            "Probabilitatea pentru configuratia (0, 0, 0, 0, 1): 0.00000\n",
            "Probabilitatea pentru configuratia (0, 0, 0, 1, 0): 0.00000\n",
            "Probabilitatea pentru configuratia (0, 0, 0, 1, 1): 0.00000\n",
            "Probabilitatea pentru configuratia (0, 0, 1, 0, 0): 0.00000\n",
            "Probabilitatea pentru configuratia (0, 0, 1, 0, 1): 0.00000\n",
            "Probabilitatea pentru configuratia (0, 0, 1, 1, 0): 0.00000\n",
            "Probabilitatea pentru configuratia (0, 0, 1, 1, 1): 0.00000\n",
            "Probabilitatea pentru configuratia (0, 1, 0, 0, 0): 0.00000\n",
            "Probabilitatea pentru configuratia (0, 1, 0, 0, 1): 0.00000\n",
            "Probabilitatea pentru configuratia (0, 1, 0, 1, 0): 0.00000\n",
            "Probabilitatea pentru configuratia (0, 1, 0, 1, 1): 0.00000\n",
            "Probabilitatea pentru configuratia (0, 1, 1, 0, 0): 0.00000\n",
            "Probabilitatea pentru configuratia (0, 1, 1, 0, 1): 0.00000\n",
            "Probabilitatea pentru configuratia (0, 1, 1, 1, 0): 0.00000\n",
            "Probabilitatea pentru configuratia (0, 1, 1, 1, 1): 0.00000\n",
            "Probabilitatea pentru configuratia (1, 0, 0, 0, 0): 0.00000\n",
            "Probabilitatea pentru configuratia (1, 0, 0, 0, 1): 0.00000\n",
            "Probabilitatea pentru configuratia (1, 0, 0, 1, 0): 0.00000\n",
            "Probabilitatea pentru configuratia (1, 0, 0, 1, 1): 0.00000\n",
            "Probabilitatea pentru configuratia (1, 0, 1, 0, 0): 0.00000\n",
            "Probabilitatea pentru configuratia (1, 0, 1, 0, 1): 0.00000\n",
            "Probabilitatea pentru configuratia (1, 0, 1, 1, 0): 0.00000\n",
            "Probabilitatea pentru configuratia (1, 0, 1, 1, 1): 0.00000\n",
            "Probabilitatea pentru configuratia (1, 1, 0, 0, 0): 0.00000\n",
            "Probabilitatea pentru configuratia (1, 1, 0, 0, 1): 0.00000\n",
            "Probabilitatea pentru configuratia (1, 1, 0, 1, 0): 0.00000\n",
            "Probabilitatea pentru configuratia (1, 1, 0, 1, 1): 0.00000\n",
            "Probabilitatea pentru configuratia (1, 1, 1, 0, 0): 0.00000\n",
            "Probabilitatea pentru configuratia (1, 1, 1, 0, 1): 0.00000\n",
            "Probabilitatea pentru configuratia (1, 1, 1, 1, 0): 0.00000\n",
            "Probabilitatea pentru configuratia (1, 1, 1, 1, 1): 1.00000\n"
          ]
        }
      ]
    },
    {
      "cell_type": "code",
      "source": [
        "max_prob = np.max(normalized_probabilities)\n",
        "max_states = [comb for comb, prob in zip(all_combinations, normalized_probabilities) if prob == max_prob]\n",
        "\n",
        "print(f\"Starea/starile cu probabilitatea maxima: {max_states}, probabilitatea: {max_prob:.5f}\")"
      ],
      "metadata": {
        "colab": {
          "base_uri": "https://localhost:8080/"
        },
        "id": "4g8AMvQK_VUA",
        "outputId": "156a38a7-9bab-4885-a681-c71ce1e7917c"
      },
      "execution_count": null,
      "outputs": [
        {
          "output_type": "stream",
          "name": "stdout",
          "text": [
            "Starea/starile cu probabilitatea maxima: [(1, 1, 1, 1, 1)], probabilitatea: 1.00000\n"
          ]
        }
      ]
    }
  ]
}